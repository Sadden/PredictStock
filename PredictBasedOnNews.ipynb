{
 "cells": [
  {
   "cell_type": "code",
   "execution_count": 2,
   "metadata": {},
   "outputs": [
    {
     "name": "stdout",
     "output_type": "stream",
     "text": [
      "[nltk_data] Downloading package stopwords to\n",
      "[nltk_data]     C:\\Users\\11068\\AppData\\Roaming\\nltk_data...\n",
      "[nltk_data]   Package stopwords is already up-to-date!\n"
     ]
    },
    {
     "data": {
      "text/plain": [
       "True"
      ]
     },
     "execution_count": 2,
     "metadata": {},
     "output_type": "execute_result"
    }
   ],
   "source": [
    "import pandas as pd\n",
    "import numpy as np\n",
    "import tensorflow as tf\n",
    "import re\n",
    "from nltk.corpus import stopwords\n",
    "import nltk\n",
    "from sklearn.model_selection import train_test_split\n",
    "from sklearn.metrics import median_absolute_error as mae\n",
    "from sklearn.metrics import mean_squared_error as mse\n",
    "from sklearn.metrics import accuracy_score as acc\n",
    "import matplotlib.pyplot as plt\n",
    "\n",
    "from keras.models import Sequential\n",
    "from keras import initializers\n",
    "from keras.layers import Dropout, Activation, Embedding, Convolution1D, MaxPooling1D, Input, Dense,\\\n",
    "                         BatchNormalization, Flatten, Reshape, Concatenate, concatenate\n",
    "from keras.layers.recurrent import LSTM, GRU\n",
    "from keras.callbacks import Callback, ModelCheckpoint, EarlyStopping, ReduceLROnPlateau\n",
    "from keras.models import Model\n",
    "from keras.optimizers import Adam, SGD, RMSprop\n",
    "from keras import regularizers\n",
    "nltk.download('stopwords')"
   ]
  },
  {
   "cell_type": "code",
   "execution_count": 3,
   "metadata": {},
   "outputs": [],
   "source": [
    "dj = pd.read_csv(\"DowJones.csv\")\n",
    "news = pd.read_csv(\"News.csv\")"
   ]
  },
  {
   "cell_type": "code",
   "execution_count": 4,
   "metadata": {},
   "outputs": [
    {
     "name": "stdout",
     "output_type": "stream",
     "text": [
      "(1989, 7)\n",
      "(73608, 2)\n",
      "1989\n",
      "2943\n"
     ]
    }
   ],
   "source": [
    "dj.isnull().sum()\n",
    "news.isnull().sum()\n",
    "print(dj.shape)\n",
    "print(news.shape)\n",
    "print(len(set(dj.Date)))\n",
    "print(len(set(news.Date)))"
   ]
  },
  {
   "cell_type": "code",
   "execution_count": 5,
   "metadata": {},
   "outputs": [
    {
     "name": "stdout",
     "output_type": "stream",
     "text": [
      "(49718, 2)\n",
      "1989\n"
     ]
    }
   ],
   "source": [
    "'''because the news contains more days than Dow (weekends), we need to delete all the useless news'''\n",
    "news = news[news.Date.isin(dj.Date)]\n",
    "print(news.shape)\n",
    "print(len(set(news.Date)))"
   ]
  },
  {
   "cell_type": "code",
   "execution_count": 6,
   "metadata": {},
   "outputs": [
    {
     "data": {
      "text/html": [
       "<div>\n",
       "<style scoped>\n",
       "    .dataframe tbody tr th:only-of-type {\n",
       "        vertical-align: middle;\n",
       "    }\n",
       "\n",
       "    .dataframe tbody tr th {\n",
       "        vertical-align: top;\n",
       "    }\n",
       "\n",
       "    .dataframe thead th {\n",
       "        text-align: right;\n",
       "    }\n",
       "</style>\n",
       "<table border=\"1\" class=\"dataframe\">\n",
       "  <thead>\n",
       "    <tr style=\"text-align: right;\">\n",
       "      <th></th>\n",
       "      <th>Open</th>\n",
       "      <th>Date</th>\n",
       "    </tr>\n",
       "  </thead>\n",
       "  <tbody>\n",
       "    <tr>\n",
       "      <th>0</th>\n",
       "      <td>NaN</td>\n",
       "      <td>2016-07-01</td>\n",
       "    </tr>\n",
       "    <tr>\n",
       "      <th>1</th>\n",
       "      <td>-211.480468</td>\n",
       "      <td>2016-06-30</td>\n",
       "    </tr>\n",
       "    <tr>\n",
       "      <th>2</th>\n",
       "      <td>-256.740235</td>\n",
       "      <td>2016-06-29</td>\n",
       "    </tr>\n",
       "    <tr>\n",
       "      <th>3</th>\n",
       "      <td>-265.509765</td>\n",
       "      <td>2016-06-28</td>\n",
       "    </tr>\n",
       "    <tr>\n",
       "      <th>4</th>\n",
       "      <td>164.701172</td>\n",
       "      <td>2016-06-27</td>\n",
       "    </tr>\n",
       "  </tbody>\n",
       "</table>\n",
       "</div>"
      ],
      "text/plain": [
       "         Open        Date\n",
       "0         NaN  2016-07-01\n",
       "1 -211.480468  2016-06-30\n",
       "2 -256.740235  2016-06-29\n",
       "3 -265.509765  2016-06-28\n",
       "4  164.701172  2016-06-27"
      ]
     },
     "execution_count": 6,
     "metadata": {},
     "output_type": "execute_result"
    }
   ],
   "source": [
    "'''calculate the difference between the next opening and todays, which we believe has relations with the news today'''\n",
    "dj = dj.set_index('Date').diff(periods = 1)\n",
    "dj['Date'] = dj.index\n",
    "dj = dj.reset_index(drop=True)\n",
    "# Remove unneeded features\n",
    "dj = dj.drop(['High','Low','Close','Volume','Adj Close'], 1)\n",
    "dj.head()"
   ]
  },
  {
   "cell_type": "code",
   "execution_count": 7,
   "metadata": {},
   "outputs": [
    {
     "name": "stdout",
     "output_type": "stream",
     "text": [
      "(1988, 2)\n"
     ]
    }
   ],
   "source": [
    "'''Remove the row if it has a null value.'''\n",
    "dj = dj[dj.Open.notnull()]\n",
    "print(dj.shape)"
   ]
  },
  {
   "cell_type": "code",
   "execution_count": 8,
   "metadata": {},
   "outputs": [],
   "source": [
    "# Create a list of the opening prices and their corresponding daily headlines from the news\n",
    "price = []\n",
    "headlines = []\n",
    "\n",
    "for row in dj.iterrows():\n",
    "    daily_headlines = []\n",
    "    date = row[1]['Date']\n",
    "    price.append(row[1]['Open'])\n",
    "    for row_ in news[news.Date == date].iterrows():\n",
    "        daily_headlines.append(row_[1]['News'])\n",
    "    headlines.append(daily_headlines)\n"
   ]
  },
  {
   "cell_type": "code",
   "execution_count": 9,
   "metadata": {},
   "outputs": [],
   "source": [
    "'''A list of contractions from http://stackoverflow.com/questions/19790188/expanding-english-language-contractions-in-python'''\n",
    "contractions = { \n",
    "\"ain't\": \"am not\",\n",
    "\"aren't\": \"are not\",\n",
    "\"can't\": \"cannot\",\n",
    "\"can't've\": \"cannot have\",\n",
    "\"'cause\": \"because\",\n",
    "\"could've\": \"could have\",\n",
    "\"couldn't\": \"could not\",\n",
    "\"couldn't've\": \"could not have\",\n",
    "\"didn't\": \"did not\",\n",
    "\"doesn't\": \"does not\",\n",
    "\"don't\": \"do not\",\n",
    "\"hadn't\": \"had not\",\n",
    "\"hadn't've\": \"had not have\",\n",
    "\"hasn't\": \"has not\",\n",
    "\"haven't\": \"have not\",\n",
    "\"he'd\": \"he would\",\n",
    "\"he'd've\": \"he would have\",\n",
    "\"he'll\": \"he will\",\n",
    "\"he's\": \"he is\",\n",
    "\"how'd\": \"how did\",\n",
    "\"how'll\": \"how will\",\n",
    "\"how's\": \"how is\",\n",
    "\"i'd\": \"i would\",\n",
    "\"i'll\": \"i will\",\n",
    "\"i'm\": \"i am\",\n",
    "\"i've\": \"i have\",\n",
    "\"isn't\": \"is not\",\n",
    "\"it'd\": \"it would\",\n",
    "\"it'll\": \"it will\",\n",
    "\"it's\": \"it is\",\n",
    "\"let's\": \"let us\",\n",
    "\"ma'am\": \"madam\",\n",
    "\"mayn't\": \"may not\",\n",
    "\"might've\": \"might have\",\n",
    "\"mightn't\": \"might not\",\n",
    "\"must've\": \"must have\",\n",
    "\"mustn't\": \"must not\",\n",
    "\"needn't\": \"need not\",\n",
    "\"oughtn't\": \"ought not\",\n",
    "\"shan't\": \"shall not\",\n",
    "\"sha'n't\": \"shall not\",\n",
    "\"she'd\": \"she would\",\n",
    "\"she'll\": \"she will\",\n",
    "\"she's\": \"she is\",\n",
    "\"should've\": \"should have\",\n",
    "\"shouldn't\": \"should not\",\n",
    "\"that'd\": \"that would\",\n",
    "\"that's\": \"that is\",\n",
    "\"there'd\": \"there had\",\n",
    "\"there's\": \"there is\",\n",
    "\"they'd\": \"they would\",\n",
    "\"they'll\": \"they will\",\n",
    "\"they're\": \"they are\",\n",
    "\"they've\": \"they have\",\n",
    "\"wasn't\": \"was not\",\n",
    "\"we'd\": \"we would\",\n",
    "\"we'll\": \"we will\",\n",
    "\"we're\": \"we are\",\n",
    "\"we've\": \"we have\",\n",
    "\"weren't\": \"were not\",\n",
    "\"what'll\": \"what will\",\n",
    "\"what're\": \"what are\",\n",
    "\"what's\": \"what is\",\n",
    "\"what've\": \"what have\",\n",
    "\"where'd\": \"where did\",\n",
    "\"where's\": \"where is\",\n",
    "\"who'll\": \"who will\",\n",
    "\"who's\": \"who is\",\n",
    "\"won't\": \"will not\",\n",
    "\"wouldn't\": \"would not\",\n",
    "\"you'd\": \"you would\",\n",
    "\"you'll\": \"you will\",\n",
    "\"you're\": \"you are\"\n",
    "}"
   ]
  },
  {
   "cell_type": "code",
   "execution_count": 10,
   "metadata": {},
   "outputs": [],
   "source": [
    "'''Remove unwanted characters and format the text to create fewer nulls word embeddings'''\n",
    "def clean_text(text, remove_stopwords = True):\n",
    "    #1. convert words to lower case\n",
    "    text = text.lower()\n",
    "    \n",
    "    #2. replace contractions with their longer forms\n",
    "    words = text.split()\n",
    "    new_text = []\n",
    "    for word in words:\n",
    "        if word in contractions:\n",
    "            new_text.append(contractions[word])\n",
    "        else:\n",
    "            new_text.append(word)\n",
    "    text = \" \".join(new_text)\n",
    "    \n",
    "    #3. format words and remove unwanted characters\n",
    "    text = re.sub(r'&amp;', '', text) \n",
    "    text = re.sub(r'0,0', '00', text) \n",
    "    text = re.sub(r'[_\"\\-;%()|.,+&=*%.,!?:#@\\[\\]]', ' ', text)\n",
    "    text = re.sub(r'\\'', ' ', text)\n",
    "    text = re.sub(r'\\$', ' $ ', text)\n",
    "    text = re.sub(r'u s ', ' united states ', text)\n",
    "    text = re.sub(r'u n ', ' united nations ', text)\n",
    "    text = re.sub(r'u k ', ' united kingdom ', text)\n",
    "    text = re.sub(r'j k ', ' jk ', text)\n",
    "    text = re.sub(r' s ', ' ', text)\n",
    "    text = re.sub(r' yr ', ' year ', text)\n",
    "    text = re.sub(r' l g b t ', ' lgbt ', text)\n",
    "    text = re.sub(r'0km ', '0 km ', text)\n",
    "    \n",
    "    #4. Optionally, remove stop words\n",
    "    if remove_stopwords:\n",
    "        text = text.split()\n",
    "        stops = set(stopwords.words(\"english\"))\n",
    "        text = [w for w in text if not w in stops]\n",
    "        text = \" \".join(text)\n",
    "        \n",
    "    return text"
   ]
  },
  {
   "cell_type": "code",
   "execution_count": 11,
   "metadata": {},
   "outputs": [],
   "source": [
    "#cleaned headlines\n",
    "clean_headlines = []\n",
    "\n",
    "for daily_headlines in headlines:\n",
    "    clean_daily_headlines = []\n",
    "    for headline in daily_headlines:\n",
    "        clean_daily_headlines.append(clean_text(headline))\n",
    "    clean_headlines.append(clean_daily_headlines)"
   ]
  },
  {
   "cell_type": "code",
   "execution_count": 12,
   "metadata": {},
   "outputs": [
    {
     "data": {
      "text/plain": [
       "['jamaica proposes marijuana dispensers tourists airports following legalisation kiosks desks would give people license purchase 2 ounces drug use stay',\n",
       " 'stephen hawking says pollution stupidity still biggest threats mankind certainly become less greedy less stupid treatment environment past decade',\n",
       " 'boris johnson says run tory party leadership',\n",
       " 'six gay men ivory coast abused forced flee homes pictured signing condolence book victims recent attack gay nightclub florida',\n",
       " 'switzerland denies citizenship muslim immigrant girls refused swim boys report',\n",
       " 'palestinian terrorist stabs israeli teen girl death bedroom',\n",
       " 'puerto rico default $ 1 billion debt friday',\n",
       " 'republic ireland fans awarded medal sportsmanship paris mayor',\n",
       " 'afghan suicide bomber kills 40 bbc news',\n",
       " 'us airstrikes kill least 250 isis fighters convoy outside fallujah official says',\n",
       " 'turkish cop took istanbul gunman hailed hero',\n",
       " 'cannabis compounds could treat alzheimer removing plaque forming proteins brain cells research suggests',\n",
       " 'japan top court approved blanket surveillance country muslims made us terrorist suspects never anything wrong says japanese muslim mohammed fujita',\n",
       " 'cia gave romania millions host secret prisons',\n",
       " 'groups urge united nations suspend saudi arabia rights council',\n",
       " 'googles free wifi indian railway stations better countrys paid services',\n",
       " 'mounting evidence suggests hobbits wiped modern humans ancestors 50000 years ago',\n",
       " 'men carried tuesday terror attack istanbul ataturk airport russia uzbekistan kyrgyzstan turkish offical said',\n",
       " 'calls suspend saudi arabia un human rights council military aggresion yemen',\n",
       " '100 nobel laureates call greenpeace anti gmo obstruction developing world',\n",
       " 'british pedophile sentenced 85 years us trafficking child abuse images domminich shaw kingpin sexual violence children sent dozens images online discussed plans assault kill child probation',\n",
       " 'us permitted 1 200 offshore fracks gulf mexico 2010 2014 allowed 72 billion gallons chemical discharge 2014',\n",
       " 'swimming ridicule french beach police carry guns swimming trunks police lifeguards frances busiest beaches carry guns bullet proof vests first time summer amid fears terrorists could target holidaymakers',\n",
       " 'uefa says minutes silence istanbul victims euro 2016 turkey already eliminated',\n",
       " 'law enforcement sources gun used paris terrorist attacks came phoenix']"
      ]
     },
     "execution_count": 12,
     "metadata": {},
     "output_type": "execute_result"
    }
   ],
   "source": [
    "clean_headlines[0]"
   ]
  },
  {
   "cell_type": "code",
   "execution_count": 13,
   "metadata": {},
   "outputs": [
    {
     "name": "stdout",
     "output_type": "stream",
     "text": [
      "35190\n"
     ]
    }
   ],
   "source": [
    "'''find the number of times each word was used and the size of the vocabulary'''\n",
    "word_counts = {}\n",
    "\n",
    "for headlines_daily in clean_headlines:\n",
    "    for headline in headlines_daily:\n",
    "        for word in headline.split():\n",
    "            if word not in word_counts:\n",
    "                word_counts[word] = 1\n",
    "            else:\n",
    "                word_counts[word] += 1\n",
    "                \n",
    "print(len(word_counts))\n"
   ]
  },
  {
   "cell_type": "code",
   "execution_count": 14,
   "metadata": {},
   "outputs": [
    {
     "name": "stdout",
     "output_type": "stream",
     "text": [
      "2196017\n"
     ]
    }
   ],
   "source": [
    "'''load GloVe embeddings'''\n",
    "embeddings_index = {}\n",
    "with open('./glove.840B.300d/glove.840B.300d.txt', encoding = 'utf-8') as f:\n",
    "    for line in f:\n",
    "        values = line.split(' ')\n",
    "        word = values[0]\n",
    "        embedding = np.asarray(values[1:], dtype = 'float32')\n",
    "        embeddings_index[word] = embedding\n",
    "    \n",
    "    print(len(embeddings_index))"
   ]
  },
  {
   "cell_type": "code",
   "execution_count": 15,
   "metadata": {},
   "outputs": [
    {
     "name": "stdout",
     "output_type": "stream",
     "text": [
      "47\n"
     ]
    }
   ],
   "source": [
    "'''# Find the number of words that are missing from GloVe, and are used more than our threshold.'''\n",
    "missing_words = 0\n",
    "threshold = 10\n",
    "\n",
    "for word, count in word_counts.items():\n",
    "    if count > threshold:\n",
    "        if word not in embeddings_index:\n",
    "            missing_words += 1\n",
    "\n",
    "print(missing_words)\n",
    "\n"
   ]
  },
  {
   "cell_type": "code",
   "execution_count": 16,
   "metadata": {},
   "outputs": [
    {
     "name": "stdout",
     "output_type": "stream",
     "text": [
      "Total Number of Unique Words: 35190\n",
      "Number of Words we will use: 31265\n",
      "Percent of Words we will use: 88.85%\n"
     ]
    }
   ],
   "source": [
    "'''limit the vocab that we will use to words that appear >= threshold\n",
    "or are in Glove'''\n",
    "#dictionary to convert words to integers\n",
    "vocab_to_int = {}\n",
    "\n",
    "value = 0\n",
    "for word, count in word_counts.items():\n",
    "    if count >= threshold or word in embeddings_index:\n",
    "        vocab_to_int[word] = value\n",
    "        value += 1\n",
    "#special tokens that will be added to our vocab\n",
    "codes = [\"<UNK>\",\"<PAD>\"]\n",
    "\n",
    "#add codes to vocab\n",
    "for code in codes:\n",
    "    vocab_to_int[code] = len(vocab_to_int)\n",
    "\n",
    "# dictionary to convert integer to words\n",
    "int_to_vocab = {}\n",
    "for word, value in vocab_to_int.items():\n",
    "    int_to_vocab[value] = word\n",
    "    \n",
    "usage_ratio = round(len(vocab_to_int) / len(word_counts),4)*100\n",
    "\n",
    "print(\"Total Number of Unique Words:\", len(word_counts))\n",
    "print(\"Number of Words we will use:\", len(vocab_to_int))\n",
    "print(\"Percent of Words we will use: {}%\".format(usage_ratio))"
   ]
  },
  {
   "cell_type": "code",
   "execution_count": 17,
   "metadata": {},
   "outputs": [
    {
     "name": "stdout",
     "output_type": "stream",
     "text": [
      "31265\n"
     ]
    }
   ],
   "source": [
    "#Need to use 300 for embedding dimensions to match GloVe's vectors\n",
    "embedding_dim = 300\n",
    "\n",
    "nb_words = len(vocab_to_int)\n",
    "#create matrix with default values of zero\n",
    "word_embedding_matrix = np.zeros((nb_words,embedding_dim))\n",
    "for word, i in vocab_to_int.items():\n",
    "    if word in embeddings_index:\n",
    "        word_embedding_matrix[i] = embeddings_index[word]\n",
    "    else:\n",
    "        #if word not in GloVe, create a random embedding for it\n",
    "        new_embedding = np.array(np.random.uniform(-1.0,1.0,embedding_dim))\n",
    "        embeddings_index[word] = new_embedding\n",
    "        word_embedding_matrix[i] = new_embedding\n",
    "        \n",
    "        #check if value\n",
    "print(len(word_embedding_matrix))"
   ]
  },
  {
   "cell_type": "code",
   "execution_count": 18,
   "metadata": {},
   "outputs": [
    {
     "name": "stdout",
     "output_type": "stream",
     "text": [
      "Total number of words in headlines: 615989\n",
      "Total number of UNKs in headlines: 5262\n",
      "Percent of words that are UNK: 0.8500000000000001%\n"
     ]
    }
   ],
   "source": [
    "# Change the text from words to integers\n",
    "# If word is not in vocab, replace it with <UNK> (unknown)\n",
    "word_count = 0\n",
    "unk_count = 0\n",
    "\n",
    "int_headlines = []\n",
    "\n",
    "for date in clean_headlines:\n",
    "    int_daily_headlines = []\n",
    "    for headline in date:\n",
    "        int_headline = []\n",
    "        for word in headline.split():\n",
    "            word_count += 1\n",
    "            if word in vocab_to_int:\n",
    "                int_headline.append(vocab_to_int[word])\n",
    "            else:\n",
    "                int_headline.append(vocab_to_int[\"<UNK>\"])\n",
    "                unk_count += 1\n",
    "        int_daily_headlines.append(int_headline)\n",
    "    int_headlines.append(int_daily_headlines)\n",
    "\n",
    "unk_percent = round(unk_count/word_count,4)*100\n",
    "\n",
    "print(\"Total number of words in headlines:\", word_count)\n",
    "print(\"Total number of UNKs in headlines:\", unk_count)\n",
    "print(\"Percent of words that are UNK: {}%\".format(unk_percent))"
   ]
  },
  {
   "cell_type": "code",
   "execution_count": 19,
   "metadata": {},
   "outputs": [
    {
     "data": {
      "text/html": [
       "<div>\n",
       "<style scoped>\n",
       "    .dataframe tbody tr th:only-of-type {\n",
       "        vertical-align: middle;\n",
       "    }\n",
       "\n",
       "    .dataframe tbody tr th {\n",
       "        vertical-align: top;\n",
       "    }\n",
       "\n",
       "    .dataframe thead th {\n",
       "        text-align: right;\n",
       "    }\n",
       "</style>\n",
       "<table border=\"1\" class=\"dataframe\">\n",
       "  <thead>\n",
       "    <tr style=\"text-align: right;\">\n",
       "      <th></th>\n",
       "      <th>counts</th>\n",
       "    </tr>\n",
       "  </thead>\n",
       "  <tbody>\n",
       "    <tr>\n",
       "      <th>count</th>\n",
       "      <td>49693.000000</td>\n",
       "    </tr>\n",
       "    <tr>\n",
       "      <th>mean</th>\n",
       "      <td>12.395891</td>\n",
       "    </tr>\n",
       "    <tr>\n",
       "      <th>std</th>\n",
       "      <td>6.790246</td>\n",
       "    </tr>\n",
       "    <tr>\n",
       "      <th>min</th>\n",
       "      <td>1.000000</td>\n",
       "    </tr>\n",
       "    <tr>\n",
       "      <th>25%</th>\n",
       "      <td>7.000000</td>\n",
       "    </tr>\n",
       "    <tr>\n",
       "      <th>50%</th>\n",
       "      <td>10.000000</td>\n",
       "    </tr>\n",
       "    <tr>\n",
       "      <th>75%</th>\n",
       "      <td>16.000000</td>\n",
       "    </tr>\n",
       "    <tr>\n",
       "      <th>max</th>\n",
       "      <td>41.000000</td>\n",
       "    </tr>\n",
       "  </tbody>\n",
       "</table>\n",
       "</div>"
      ],
      "text/plain": [
       "             counts\n",
       "count  49693.000000\n",
       "mean      12.395891\n",
       "std        6.790246\n",
       "min        1.000000\n",
       "25%        7.000000\n",
       "50%       10.000000\n",
       "75%       16.000000\n",
       "max       41.000000"
      ]
     },
     "execution_count": 19,
     "metadata": {},
     "output_type": "execute_result"
    }
   ],
   "source": [
    "# Find the length of headlines\n",
    "lengths = []\n",
    "for date in int_headlines:\n",
    "    for headline in date:\n",
    "        lengths.append(len(headline))\n",
    "\n",
    "# Create a dataframe so that the values can be inspected\n",
    "lengths = pd.DataFrame(lengths, columns=['counts'])\n",
    "lengths.describe()"
   ]
  },
  {
   "cell_type": "code",
   "execution_count": 20,
   "metadata": {},
   "outputs": [],
   "source": [
    "'''Limit the length of a day's news to 200 words, and the length of any headline to 16 words.\n",
    "   These values are chosen to not have an excessively long training time and \n",
    "   balance the number of headlines used and the number of words from each headline.'''\n",
    "max_headline_length = 16\n",
    "max_daily_length = 200\n",
    "pad_headlines = []\n",
    "    \n",
    "for date in int_headlines:\n",
    "    pad_daily_headlines = []\n",
    "    for headline in date:\n",
    "        # Add headline if it is less than max length\n",
    "        if len(headline) <= max_headline_length:\n",
    "            for word in headline:\n",
    "                pad_daily_headlines.append(word)\n",
    "        # Limit headline if it is more than max length  \n",
    "        else:\n",
    "            headline = headline[:max_headline_length]\n",
    "            for word in headline:\n",
    "                pad_daily_headlines.append(word)\n",
    "    \n",
    "    # Pad daily_headlines if they are less than max length\n",
    "    if len(pad_daily_headlines) < max_daily_length:\n",
    "        for i in range(max_daily_length-len(pad_daily_headlines)):\n",
    "            pad = vocab_to_int[\"<PAD>\"]\n",
    "            pad_daily_headlines.append(pad)\n",
    "    # Limit daily_headlines if they are more than max length\n",
    "    else:\n",
    "        pad_daily_headlines = pad_daily_headlines[:max_daily_length]\n",
    "    pad_headlines.append(pad_daily_headlines)"
   ]
  },
  {
   "cell_type": "code",
   "execution_count": 21,
   "metadata": {},
   "outputs": [],
   "source": [
    "# Normalize opening prices (target values)\n",
    "max_price = max(price)\n",
    "min_price = min(price)\n",
    "mean_price = np.mean(price)\n",
    "def normalize(price):\n",
    "    return ((price-min_price)/(max_price-min_price))"
   ]
  },
  {
   "cell_type": "code",
   "execution_count": 22,
   "metadata": {},
   "outputs": [],
   "source": [
    "norm_price = []\n",
    "for p in price:\n",
    "    norm_price.append(normalize(p))"
   ]
  },
  {
   "cell_type": "code",
   "execution_count": 23,
   "metadata": {},
   "outputs": [
    {
     "name": "stdout",
     "output_type": "stream",
     "text": [
      "0.0\n",
      "1.0\n",
      "0.5448422454901358\n"
     ]
    }
   ],
   "source": [
    "# Check that normalization worked well\n",
    "print(min(norm_price))\n",
    "print(max(norm_price))\n",
    "print(np.mean(norm_price))"
   ]
  },
  {
   "cell_type": "code",
   "execution_count": 24,
   "metadata": {},
   "outputs": [],
   "source": [
    "# Split data into training and testing sets.\n",
    "# Validating data will be created during training.\n",
    "x_train, x_test, y_train, y_test = train_test_split(pad_headlines, norm_price, test_size = 0.15, random_state = 2)\n",
    "\n",
    "x_train = np.array(x_train)\n",
    "x_test = np.array(x_test)\n",
    "y_train = np.array(y_train)\n",
    "y_test = np.array(y_test)"
   ]
  },
  {
   "cell_type": "code",
   "execution_count": 25,
   "metadata": {},
   "outputs": [
    {
     "name": "stdout",
     "output_type": "stream",
     "text": [
      "1689\n",
      "299\n"
     ]
    }
   ],
   "source": [
    "# Check the lengths\n",
    "print(len(x_train))\n",
    "print(len(x_test))"
   ]
  },
  {
   "cell_type": "code",
   "execution_count": 26,
   "metadata": {},
   "outputs": [
    {
     "name": "stdout",
     "output_type": "stream",
     "text": [
      "WARNING:tensorflow:From D:\\Work\\Aconda\\AnacodaPython3.7\\lib\\site-packages\\tensorflow\\python\\framework\\op_def_library.py:263: colocate_with (from tensorflow.python.framework.ops) is deprecated and will be removed in a future version.\n",
      "Instructions for updating:\n",
      "Colocations handled automatically by placer.\n",
      "WARNING:tensorflow:From D:\\Work\\Aconda\\AnacodaPython3.7\\lib\\site-packages\\keras\\backend\\tensorflow_backend.py:3445: calling dropout (from tensorflow.python.ops.nn_ops) with keep_prob is deprecated and will be removed in a future version.\n",
      "Instructions for updating:\n",
      "Please use `rate` instead of `keep_prob`. Rate should be set to `rate = 1 - keep_prob`.\n"
     ]
    }
   ],
   "source": [
    "filter_length1 = 3\n",
    "filter_length2 = 5\n",
    "dropout = 0.5\n",
    "learning_rate = 0.001\n",
    "weights = initializers.TruncatedNormal(mean=0.0, stddev=0.1, seed= 2)\n",
    "nb_filter = 16\n",
    "rnn_output_size = 128\n",
    "hidden_dims = 128\n",
    "wider = True\n",
    "deeper = True\n",
    "if wider == True:\n",
    "    nb_filter *= 2\n",
    "    rnn_output_size *= 2\n",
    "    hidden_dims *= 2\n",
    "    \n",
    "model1_input = Input(shape = (max_daily_length, ))\n",
    "x1 = Embedding(nb_words, \n",
    "                         embedding_dim, \n",
    "                         weights=[word_embedding_matrix], \n",
    "                         input_length=max_daily_length)(model1_input)\n",
    "\n",
    "x1 = Dropout(dropout)(x1)\n",
    "x1 = Convolution1D(filters=nb_filter,\n",
    "                             kernel_size = filter_length1, \n",
    "                             padding='same', \n",
    "                             activation='relu')(x1)\n",
    "x1 = Dropout(dropout)(x1)\n",
    "if deeper == True:\n",
    "    x1 = Convolution1D(filters = nb_filter,\n",
    "                                 kernel_size = filter_length1, \n",
    "                                 padding='same', \n",
    "                                 activation='relu')(x1)\n",
    "    x1 = Dropout(dropout)(x1)    \n",
    "model1_output = LSTM(rnn_output_size, \n",
    "                   activation=None,\n",
    "                   kernel_initializer=weights,\n",
    "                   dropout = dropout)(x1)\n",
    "model1 = Model(inputs = model1_input, outputs = model1_output)\n",
    "\n",
    "#########################\n",
    "model2_input = Input(shape = (max_daily_length, ))\n",
    "x2 = Embedding(nb_words, \n",
    "                         embedding_dim, \n",
    "                         weights=[word_embedding_matrix], \n",
    "                         input_length=max_daily_length)(model2_input)\n",
    "\n",
    "x2 = Dropout(dropout)(x2)\n",
    "x2 = Convolution1D(filters=nb_filter,\n",
    "                             kernel_size = filter_length2, \n",
    "                             padding='same', \n",
    "                             activation='relu')(x2)\n",
    "x2 = Dropout(dropout)(x2)\n",
    "if deeper == True:\n",
    "    x2 = Convolution1D(filters = nb_filter,\n",
    "                                 kernel_size = filter_length2, \n",
    "                                 padding='same', \n",
    "                                 activation='relu')(x2)\n",
    "    x2 = Dropout(dropout)(x2)    \n",
    "model2_output = LSTM(rnn_output_size, \n",
    "                   activation=None,\n",
    "                   kernel_initializer=weights,\n",
    "                   dropout = dropout)(x2)\n",
    "model2 = Model(inputs = model2_input, outputs = model2_output)\n",
    "\n",
    "####################\n",
    "concatenated = concatenate([model1_output, model2_output])\n",
    "x = Dense(hidden_dims, kernel_initializer=weights)(concatenated)\n",
    "x = Dropout(dropout)(x)\n",
    "if deeper == True:\n",
    "    x = Dense(hidden_dims//2, kernel_initializer=weights)(x)\n",
    "    x = Dropout(dropout)(x)\n",
    "    \n",
    "output = Dense(1, kernel_initializer = weights, name='output')(x)\n",
    "model = Model([model1_input, model2_input], output)\n",
    "model.compile(loss='mean_squared_error',\n",
    "                  optimizer=Adam(lr=learning_rate,clipvalue=1.0))"
   ]
  },
  {
   "cell_type": "code",
   "execution_count": 27,
   "metadata": {},
   "outputs": [],
   "source": [
    "filter_length1 = 3\n",
    "filter_length2 = 5\n",
    "dropout = 0.5\n",
    "learning_rate = 0.001\n",
    "weights = initializers.TruncatedNormal(mean=0.0, stddev=0.1, seed= 2)\n",
    "nb_filter = 16\n",
    "rnn_output_size = 128\n",
    "hidden_dims = 128\n",
    "wider = True\n",
    "deeper = True\n",
    "\n",
    "if wider == True:\n",
    "    nb_filter *= 2\n",
    "    rnn_output_size *= 2\n",
    "    hidden_dims *= 2\n",
    "    \n",
    "'''Due to the updating of Keras, change the Sequential model to Functional model'''\n",
    "def build_model():\n",
    "\n",
    "    '''\n",
    "    1. add model a dense (output_size, input_size) and for second_layer(output_size)\n",
    "    2. Embedding: Turns positive integers (indexes) into\n",
    "       dense vectors of fixed size. eg. [[4], [20]] -> [[0.25, 0.1], [0.6, -0.2]]\n",
    "       eg:  model.add(Embedding(1000, 64, input_length=10))\n",
    "            the model will take as input an integer matrix of size (batch, input_length).\n",
    "            the largest integer (i.e. word index) in the input should be no larger than 999 (vocabulary size).\n",
    "            now model.output_shape == (None, 10, 64), where None is the batch dimension.\n",
    "    ''' \n",
    "    model1_input = Input(shape = (max_daily_length, ))\n",
    "    x1 = Embedding(nb_words, \n",
    "                         embedding_dim, \n",
    "                         weights=[word_embedding_matrix], \n",
    "                         input_length=max_daily_length)(model1_input)\n",
    "    # input / output is (batch_dim, max_daily_length, embedding_dim) with no larger than nb_words\n",
    "\n",
    "    x1 = Dropout(dropout)(x1)\n",
    "    # add dropout\n",
    "    x1 = Convolution1D(filters=nb_filter,\n",
    "                             kernel_size = filter_length1, \n",
    "                             padding='same', \n",
    "                             activation='relu')(x1)\n",
    "    # \"same\" results in padding the input such that the output has the same length as the original input\n",
    "    x1 = Dropout(dropout)(x1)\n",
    "    \n",
    "    if deeper == True:\n",
    "        x1 = Convolution1D(filters = nb_filter,\n",
    "                                 kernel_size = filter_length1, \n",
    "                                 padding='same', \n",
    "                                 activation='relu')(x1)\n",
    "        x1 = Dropout(dropout)(x1)    \n",
    "    model1_output = LSTM(rnn_output_size, \n",
    "                   activation=None,\n",
    "                   kernel_initializer=weights,\n",
    "                   dropout = dropout)(x1)\n",
    "    model1 = Model(inputs = model1_input, outputs = model1_output)\n",
    "    # LSTM's output size is rnn_output_size\n",
    "    ######################################################\n",
    "    model2_input = Input(shape = (max_daily_length, ))\n",
    "    x2 = Embedding(nb_words, \n",
    "                         embedding_dim, \n",
    "                         weights=[word_embedding_matrix], \n",
    "                         input_length=max_daily_length)(model2_input)\n",
    "\n",
    "    x2 = Dropout(dropout)(x2)\n",
    "    x2 = Convolution1D(filters=nb_filter,\n",
    "                             kernel_size = filter_length2, \n",
    "                             padding='same', \n",
    "                             activation='relu')(x2)\n",
    "    x2 = Dropout(dropout)(x2)\n",
    "    if deeper == True:\n",
    "        x2 = Convolution1D(filters = nb_filter,\n",
    "                                 kernel_size = filter_length2, \n",
    "                                 padding='same', \n",
    "                                 activation='relu')(x2)\n",
    "        x2 = Dropout(dropout)(x2)    \n",
    "    model2_output = LSTM(rnn_output_size, \n",
    "                   activation=None,\n",
    "                   kernel_initializer=weights,\n",
    "                   dropout = dropout)(x2)\n",
    "    model2 = Model(inputs = model2_input, outputs = model2_output)\n",
    "\n",
    "    \n",
    "    #######################################################\n",
    "    concatenated = concatenate([model1_output, model2_output])\n",
    "    x = Dense(hidden_dims, kernel_initializer=weights)(concatenated)\n",
    "    x = Dropout(dropout)(x)\n",
    "    if deeper == True:\n",
    "        x = Dense(hidden_dims//2, kernel_initializer=weights)(x)\n",
    "        x = Dropout(dropout)(x)\n",
    "    \n",
    "    output = Dense(1, kernel_initializer = weights, name='output')(x)\n",
    "    model = Model([model1_input, model2_input], output)\n",
    "    model.compile(loss='mean_squared_error',\n",
    "                  optimizer=Adam(lr=learning_rate,clipvalue=1.0))\n",
    "    \n",
    "    return model"
   ]
  },
  {
   "cell_type": "code",
   "execution_count": 28,
   "metadata": {},
   "outputs": [
    {
     "name": "stdout",
     "output_type": "stream",
     "text": [
      "\n",
      "Current model: Deeper=False, Wider=True, LR=0.001, Dropout=0.3\n",
      "\n",
      "WARNING:tensorflow:From D:\\Work\\Aconda\\AnacodaPython3.7\\lib\\site-packages\\tensorflow\\python\\ops\\math_ops.py:3066: to_int32 (from tensorflow.python.ops.math_ops) is deprecated and will be removed in a future version.\n",
      "Instructions for updating:\n",
      "Use tf.cast instead.\n",
      "Train on 1435 samples, validate on 254 samples\n",
      "Epoch 1/100\n",
      "1435/1435 [==============================] - 19s 13ms/step - loss: 1.4229 - val_loss: 0.0597\n",
      "Epoch 2/100\n",
      "1435/1435 [==============================] - 16s 11ms/step - loss: 0.1293 - val_loss: 0.1125\n",
      "Epoch 3/100\n",
      "1435/1435 [==============================] - 16s 11ms/step - loss: 0.0621 - val_loss: 0.0262\n",
      "Epoch 4/100\n",
      "1435/1435 [==============================] - 16s 11ms/step - loss: 0.0414 - val_loss: 0.0304\n",
      "Epoch 5/100\n",
      "1435/1435 [==============================] - 16s 11ms/step - loss: 0.0313 - val_loss: 0.0310\n",
      "Epoch 6/100\n",
      "1435/1435 [==============================] - 16s 11ms/step - loss: 0.0266 - val_loss: 0.0209\n",
      "Epoch 7/100\n",
      "1435/1435 [==============================] - 16s 11ms/step - loss: 0.0251 - val_loss: 0.0209\n",
      "Epoch 8/100\n",
      "1435/1435 [==============================] - 16s 11ms/step - loss: 0.0217 - val_loss: 0.0198\n",
      "Epoch 9/100\n",
      "1435/1435 [==============================] - 16s 11ms/step - loss: 0.0208 - val_loss: 0.0144\n",
      "Epoch 10/100\n",
      "1435/1435 [==============================] - 16s 11ms/step - loss: 0.0185 - val_loss: 0.0147\n",
      "Epoch 11/100\n",
      "1435/1435 [==============================] - 15s 11ms/step - loss: 0.0184 - val_loss: 0.0142\n",
      "Epoch 12/100\n",
      "1435/1435 [==============================] - 15s 10ms/step - loss: 0.0178 - val_loss: 0.0133\n",
      "Epoch 13/100\n",
      "1435/1435 [==============================] - 15s 10ms/step - loss: 0.0176 - val_loss: 0.0117\n",
      "Epoch 14/100\n",
      "1435/1435 [==============================] - 15s 10ms/step - loss: 0.0162 - val_loss: 0.0109\n",
      "Epoch 15/100\n",
      "1435/1435 [==============================] - 15s 10ms/step - loss: 0.0152 - val_loss: 0.0109\n",
      "Epoch 16/100\n",
      "1435/1435 [==============================] - 15s 10ms/step - loss: 0.0144 - val_loss: 0.0102\n",
      "Epoch 17/100\n",
      "1435/1435 [==============================] - 14s 10ms/step - loss: 0.0139 - val_loss: 0.0091\n",
      "Epoch 18/100\n",
      "1435/1435 [==============================] - 15s 10ms/step - loss: 0.0159 - val_loss: 0.0093\n",
      "Epoch 19/100\n",
      "1435/1435 [==============================] - 15s 10ms/step - loss: 0.0141 - val_loss: 0.0085\n",
      "Epoch 20/100\n",
      "1435/1435 [==============================] - 15s 10ms/step - loss: 0.0132 - val_loss: 0.0093\n",
      "Epoch 21/100\n",
      "1435/1435 [==============================] - 15s 10ms/step - loss: 0.0132 - val_loss: 0.0080\n",
      "Epoch 22/100\n",
      "1435/1435 [==============================] - 16s 11ms/step - loss: 0.0134 - val_loss: 0.0088\n",
      "Epoch 23/100\n",
      "1435/1435 [==============================] - 16s 11ms/step - loss: 0.0122 - val_loss: 0.0078\n",
      "Epoch 24/100\n",
      "1435/1435 [==============================] - 16s 11ms/step - loss: 0.0119 - val_loss: 0.0079\n",
      "Epoch 25/100\n",
      "1435/1435 [==============================] - 15s 11ms/step - loss: 0.0118 - val_loss: 0.0079\n",
      "Epoch 26/100\n",
      "1435/1435 [==============================] - 16s 11ms/step - loss: 0.0116 - val_loss: 0.0083\n",
      "\n",
      "Epoch 00026: ReduceLROnPlateau reducing learning rate to 0.00020000000949949026.\n",
      "Epoch 27/100\n",
      "1435/1435 [==============================] - 15s 10ms/step - loss: 0.0114 - val_loss: 0.0080\n",
      "Epoch 28/100\n",
      "1435/1435 [==============================] - 15s 10ms/step - loss: 0.0110 - val_loss: 0.0077\n",
      "Epoch 29/100\n",
      "1435/1435 [==============================] - 15s 10ms/step - loss: 0.0115 - val_loss: 0.0077\n",
      "Epoch 30/100\n",
      "1435/1435 [==============================] - 15s 10ms/step - loss: 0.0115 - val_loss: 0.0077\n",
      "Epoch 31/100\n",
      "1435/1435 [==============================] - 15s 10ms/step - loss: 0.0120 - val_loss: 0.0079\n",
      "\n",
      "Epoch 00031: ReduceLROnPlateau reducing learning rate to 4.0000001899898055e-05.\n",
      "Epoch 32/100\n",
      "1435/1435 [==============================] - 17s 12ms/step - loss: 0.0117 - val_loss: 0.0079\n",
      "Epoch 33/100\n",
      "1435/1435 [==============================] - 16s 11ms/step - loss: 0.0109 - val_loss: 0.0079\n",
      "Epoch 00033: early stopping\n",
      "\n",
      "Current model: Deeper=False, Wider=True, LR=0.001, Dropout=0.5\n",
      "\n",
      "Train on 1435 samples, validate on 254 samples\n",
      "Epoch 1/100\n",
      "1435/1435 [==============================] - 19s 13ms/step - loss: 1.7862 - val_loss: 0.0188\n",
      "Epoch 2/100\n",
      "1435/1435 [==============================] - 15s 10ms/step - loss: 0.2719 - val_loss: 0.1581\n",
      "Epoch 3/100\n",
      "1435/1435 [==============================] - 16s 11ms/step - loss: 0.1512 - val_loss: 0.0649\n",
      "Epoch 4/100\n",
      "1435/1435 [==============================] - 16s 11ms/step - loss: 0.1112 - val_loss: 0.0543\n",
      "\n",
      "Epoch 00004: ReduceLROnPlateau reducing learning rate to 0.00020000000949949026.\n",
      "Epoch 5/100\n",
      "1435/1435 [==============================] - 15s 11ms/step - loss: 0.1006 - val_loss: 0.0581\n",
      "Epoch 6/100\n",
      "1435/1435 [==============================] - 15s 11ms/step - loss: 0.0939 - val_loss: 0.0602\n",
      "Epoch 00006: early stopping\n",
      "\n",
      "Current model: Deeper=False, Wider=False, LR=0.001, Dropout=0.3\n",
      "\n",
      "Train on 1435 samples, validate on 254 samples\n",
      "Epoch 1/100\n",
      "1435/1435 [==============================] - 20s 14ms/step - loss: 1.3111 - val_loss: 0.0570\n",
      "Epoch 2/100\n",
      "1435/1435 [==============================] - 15s 11ms/step - loss: 0.1140 - val_loss: 0.1084\n",
      "Epoch 3/100\n",
      "1435/1435 [==============================] - 15s 10ms/step - loss: 0.0598 - val_loss: 0.0265\n",
      "Epoch 4/100\n",
      "1435/1435 [==============================] - 15s 10ms/step - loss: 0.0424 - val_loss: 0.0337\n",
      "Epoch 5/100\n",
      "1435/1435 [==============================] - 16s 11ms/step - loss: 0.0319 - val_loss: 0.0276\n",
      "Epoch 6/100\n",
      "1435/1435 [==============================] - 16s 11ms/step - loss: 0.0287 - val_loss: 0.0191\n",
      "Epoch 7/100\n",
      "1435/1435 [==============================] - 15s 10ms/step - loss: 0.0260 - val_loss: 0.0175\n",
      "Epoch 8/100\n",
      "1435/1435 [==============================] - 15s 10ms/step - loss: 0.0233 - val_loss: 0.0161\n",
      "Epoch 9/100\n",
      "1435/1435 [==============================] - 15s 11ms/step - loss: 0.0204 - val_loss: 0.0152\n",
      "Epoch 10/100\n",
      "1435/1435 [==============================] - 16s 11ms/step - loss: 0.0205 - val_loss: 0.0138\n",
      "Epoch 11/100\n",
      "1435/1435 [==============================] - 17s 12ms/step - loss: 0.0184 - val_loss: 0.0121\n",
      "Epoch 12/100\n",
      "1435/1435 [==============================] - 17s 12ms/step - loss: 0.0183 - val_loss: 0.0114\n",
      "Epoch 13/100\n",
      "1435/1435 [==============================] - 16s 11ms/step - loss: 0.0177 - val_loss: 0.0114\n",
      "Epoch 14/100\n",
      "1435/1435 [==============================] - 16s 11ms/step - loss: 0.0166 - val_loss: 0.0097\n",
      "Epoch 15/100\n",
      "1435/1435 [==============================] - 17s 12ms/step - loss: 0.0155 - val_loss: 0.0094\n",
      "Epoch 16/100\n",
      "1435/1435 [==============================] - 16s 11ms/step - loss: 0.0152 - val_loss: 0.0089\n",
      "Epoch 17/100\n",
      "1435/1435 [==============================] - 16s 11ms/step - loss: 0.0142 - val_loss: 0.0080\n",
      "Epoch 18/100\n",
      "1435/1435 [==============================] - 16s 11ms/step - loss: 0.0142 - val_loss: 0.0085\n",
      "Epoch 19/100\n",
      "1435/1435 [==============================] - 16s 11ms/step - loss: 0.0144 - val_loss: 0.0076\n",
      "Epoch 20/100\n",
      "1435/1435 [==============================] - 16s 11ms/step - loss: 0.0142 - val_loss: 0.0080\n",
      "Epoch 21/100\n",
      "1435/1435 [==============================] - 17s 12ms/step - loss: 0.0129 - val_loss: 0.0081\n",
      "Epoch 22/100\n",
      "1435/1435 [==============================] - 17s 12ms/step - loss: 0.0136 - val_loss: 0.0078\n",
      "\n",
      "Epoch 00022: ReduceLROnPlateau reducing learning rate to 0.00020000000949949026.\n",
      "Epoch 23/100\n",
      "1435/1435 [==============================] - 17s 12ms/step - loss: 0.0125 - val_loss: 0.0078\n",
      "Epoch 24/100\n",
      "1435/1435 [==============================] - 17s 12ms/step - loss: 0.0127 - val_loss: 0.0081\n",
      "Epoch 00024: early stopping\n",
      "\n",
      "Current model: Deeper=False, Wider=False, LR=0.001, Dropout=0.5\n",
      "\n",
      "Train on 1435 samples, validate on 254 samples\n",
      "Epoch 1/100\n",
      "1435/1435 [==============================] - 20s 14ms/step - loss: 1.3078 - val_loss: 0.0210\n",
      "Epoch 2/100\n",
      "1435/1435 [==============================] - 16s 11ms/step - loss: 0.2314 - val_loss: 0.0827\n",
      "Epoch 3/100\n",
      "1435/1435 [==============================] - 16s 11ms/step - loss: 0.1590 - val_loss: 0.0634\n",
      "Epoch 4/100\n",
      "1435/1435 [==============================] - 17s 12ms/step - loss: 0.1076 - val_loss: 0.0580\n"
     ]
    },
    {
     "name": "stdout",
     "output_type": "stream",
     "text": [
      "\n",
      "Epoch 00004: ReduceLROnPlateau reducing learning rate to 0.00020000000949949026.\n",
      "Epoch 5/100\n",
      "1435/1435 [==============================] - 17s 12ms/step - loss: 0.0973 - val_loss: 0.0518\n",
      "Epoch 6/100\n",
      "1435/1435 [==============================] - 19s 14ms/step - loss: 0.0945 - val_loss: 0.0507\n",
      "Epoch 00006: early stopping\n"
     ]
    }
   ],
   "source": [
    "# Use grid search to help find a better model\n",
    "for deeper in [False]:\n",
    "    for wider in [True,False]:\n",
    "        for learning_rate in [0.001]:\n",
    "            for dropout in [0.3, 0.5]:\n",
    "                model = build_model()\n",
    "                print()\n",
    "                print(\"Current model: Deeper={}, Wider={}, LR={}, Dropout={}\".format(\n",
    "                    deeper,wider,learning_rate,dropout))\n",
    "                print()\n",
    "                save_best_weights = 'question_pairs_weights_deeper={}_wider={}_lr={}_dropout={}.h5'.format(\n",
    "                    deeper,wider,learning_rate,dropout)\n",
    "\n",
    "                callbacks = [ModelCheckpoint(save_best_weights, monitor='val_loss', save_best_only=True),\n",
    "                             EarlyStopping(monitor='val_loss', patience=5, verbose=1, mode='auto'),\n",
    "                             ReduceLROnPlateau(monitor='val_loss', factor=0.2, verbose=1, patience=3)]\n",
    "\n",
    "                history = model.fit([x_train,x_train],\n",
    "                                    y_train,\n",
    "                                    batch_size=128,\n",
    "                                    epochs=100,\n",
    "                                    validation_split=0.15,\n",
    "                                    verbose=True,\n",
    "                                    shuffle=True,\n",
    "                                    callbacks = callbacks)"
   ]
  },
  {
   "cell_type": "code",
   "execution_count": 30,
   "metadata": {},
   "outputs": [
    {
     "name": "stdout",
     "output_type": "stream",
     "text": [
      "299/299 [==============================] - 2s 6ms/step\n"
     ]
    }
   ],
   "source": [
    "# Make predictions with the best weights\n",
    "deeper=False\n",
    "wider=False\n",
    "dropout=0.3\n",
    "learning_Rate = 0.001\n",
    "# Need to rebuild model in case it is different from the model that was trained most recently.\n",
    "model = build_model()\n",
    "\n",
    "model.load_weights('./question_pairs_weights_deeper={}_wider={}_lr={}_dropout={}.h5'.format(\n",
    "                    deeper,wider,learning_rate,dropout))\n",
    "predictions = model.predict([x_test,x_test], verbose = True)"
   ]
  },
  {
   "cell_type": "code",
   "execution_count": 31,
   "metadata": {},
   "outputs": [
    {
     "data": {
      "text/plain": [
       "0.007516746234150936"
      ]
     },
     "execution_count": 31,
     "metadata": {},
     "output_type": "execute_result"
    }
   ],
   "source": [
    "# Compare testing loss to training and validating loss\n",
    "mse(y_test, predictions)"
   ]
  },
  {
   "cell_type": "code",
   "execution_count": 32,
   "metadata": {},
   "outputs": [],
   "source": [
    "def unnormalize(price):\n",
    "    '''Revert values to their unnormalized amounts'''\n",
    "    price = price*(max_price-min_price)+min_price\n",
    "    return(price)"
   ]
  },
  {
   "cell_type": "code",
   "execution_count": 33,
   "metadata": {},
   "outputs": [],
   "source": [
    "unnorm_predictions = []\n",
    "for pred in predictions:\n",
    "    unnorm_predictions.append(unnormalize(pred))\n",
    "    \n",
    "unnorm_y_test = []\n",
    "for y in y_test:\n",
    "    unnorm_y_test.append(unnormalize(y))"
   ]
  },
  {
   "cell_type": "code",
   "execution_count": 34,
   "metadata": {},
   "outputs": [
    {
     "data": {
      "text/plain": [
       "77.23565630078338"
      ]
     },
     "execution_count": 34,
     "metadata": {},
     "output_type": "execute_result"
    }
   ],
   "source": [
    "# Calculate the median absolute error for the predictions\n",
    "mae(unnorm_y_test, unnorm_predictions)"
   ]
  },
  {
   "cell_type": "code",
   "execution_count": 35,
   "metadata": {},
   "outputs": [
    {
     "name": "stdout",
     "output_type": "stream",
     "text": [
      "Summary of actual opening price changes\n",
      "                 \n",
      "count  299.000000\n",
      "mean    -7.094101\n",
      "std    139.532324\n",
      "min   -541.050782\n",
      "25%    -87.465332\n",
      "50%    -10.759766\n",
      "75%     54.689941\n",
      "max    673.139648\n",
      "\n",
      "Summary of predicted opening price changes\n",
      "                 \n",
      "count  299.000000\n",
      "mean   -44.302160\n",
      "std     37.702017\n",
      "min   -189.971313\n",
      "25%    -67.960205\n",
      "50%    -45.891479\n",
      "75%    -22.679565\n",
      "max     83.493225\n"
     ]
    }
   ],
   "source": [
    "print(\"Summary of actual opening price changes\")\n",
    "print(pd.DataFrame(unnorm_y_test, columns=[\"\"]).describe())\n",
    "print()\n",
    "print(\"Summary of predicted opening price changes\")\n",
    "print(pd.DataFrame(unnorm_predictions, columns=[\"\"]).describe())"
   ]
  },
  {
   "cell_type": "code",
   "execution_count": 36,
   "metadata": {},
   "outputs": [
    {
     "data": {
      "image/png": "[encoded data removed]",
      "text/plain": [
       "<Figure size 864x288 with 1 Axes>"
      ]
     },
     "metadata": {
      "needs_background": "light"
     },
     "output_type": "display_data"
    }
   ],
   "source": [
    "# Plot the predicted (blue) and actual (green) values\n",
    "plt.figure(figsize=(12,4))\n",
    "plt.plot(unnorm_predictions)\n",
    "plt.plot(unnorm_y_test)\n",
    "plt.title(\"Predicted (blue) vs Actual (green) Opening Price Changes\")\n",
    "plt.xlabel(\"Testing instances\")\n",
    "plt.ylabel(\"Change in Opening Price\")\n",
    "plt.show()"
   ]
  },
  {
   "cell_type": "code",
   "execution_count": 37,
   "metadata": {},
   "outputs": [],
   "source": [
    "# Create lists to measure if opening price increased or decreased\n",
    "direction_pred = []\n",
    "for pred in unnorm_predictions:\n",
    "    if pred >= 0:\n",
    "        direction_pred.append(1)\n",
    "    else:\n",
    "        direction_pred.append(0)\n",
    "direction_test = []\n",
    "for value in unnorm_y_test:\n",
    "    if value >= 0:\n",
    "        direction_test.append(1)\n",
    "    else:\n",
    "        direction_test.append(0)"
   ]
  },
  {
   "cell_type": "code",
   "execution_count": 38,
   "metadata": {},
   "outputs": [
    {
     "name": "stdout",
     "output_type": "stream",
     "text": [
      "Predicted values matched the actual direction 55.52% of the time.\n"
     ]
    }
   ],
   "source": [
    "# Calculate if the predicted direction matched the actual direction\n",
    "direction = acc(direction_test, direction_pred)\n",
    "direction = round(direction,4)*100\n",
    "print(\"Predicted values matched the actual direction {}% of the time.\".format(direction))"
   ]
  },
  {
   "cell_type": "code",
   "execution_count": 39,
   "metadata": {},
   "outputs": [],
   "source": [
    "def news_to_int(news):\n",
    "    '''Convert your created news into integers'''\n",
    "    ints = []\n",
    "    for word in news.split():\n",
    "        if word in vocab_to_int:\n",
    "            ints.append(vocab_to_int[word])\n",
    "        else:\n",
    "            ints.append(vocab_to_int['<UNK>'])\n",
    "    return ints"
   ]
  },
  {
   "cell_type": "code",
   "execution_count": 40,
   "metadata": {},
   "outputs": [],
   "source": [
    "def padding_news(news):\n",
    "    '''Adjusts the length of your created news to fit the model's input values.'''\n",
    "    padded_news = news\n",
    "    if len(padded_news) < max_daily_length:\n",
    "        for i in range(max_daily_length-len(padded_news)):\n",
    "            padded_news.append(vocab_to_int[\"<PAD>\"])\n",
    "    elif len(padded_news) > max_daily_length:\n",
    "        padded_news = padded_news[:max_daily_length]\n",
    "    return padded_news"
   ]
  },
  {
   "cell_type": "code",
   "execution_count": 41,
   "metadata": {},
   "outputs": [
    {
     "name": "stdout",
     "output_type": "stream",
     "text": [
      "The Dow should open: -34.11000061035156 from the previous open.\n"
     ]
    }
   ],
   "source": [
    "# Default news that you can use\n",
    "create_news = \"Leaked document reveals Facebook conducted research to target emotionally vulnerable and insecure youth. \\\n",
    "               Woman says note from Chinese 'prisoner' was hidden in new purse. \\\n",
    "               21,000 AT&T workers poised for Monday strike \\\n",
    "               housands march against Trump climate policies in D.C., across USA \\\n",
    "               Kentucky judge won't hear gay adoptions because it's not in the child's \\\"best interest\\\" \\\n",
    "               Multiple victims shot in UTC area apartment complex \\\n",
    "               Drones Lead Police to Illegal Dumping in Riverside County | NBC Southern California \\\n",
    "               An 86-year-old Californian woman has died trying to fight a man who was allegedly sexually assaulting her 61-year-old friend. \\\n",
    "               Fyre Festival Named in $5Million+ Lawsuit after Stranding Festival-Goers on Island with Little Food, No Security. \\\n",
    "               The \\\"Greatest Show on Earth\\\" folds its tent for good \\\n",
    "               U.S.-led fight on ISIS have killed 352 civilians: Pentagon \\\n",
    "               Woman offers undercover officer sex for $25 and some Chicken McNuggets \\\n",
    "               Ohio bridge refuses to fall down after three implosion attempts \\\n",
    "               Jersey Shore MIT grad dies in prank falling from library dome \\\n",
    "               New York graffiti artists claim McDonald's stole work for latest burger campaign \\\n",
    "               SpaceX to launch secretive satellite for U.S. intelligence agency \\\n",
    "               Severe Storms Leave a Trail of Death and Destruction Through the U.S. \\\n",
    "               Hamas thanks N. Korea for its support against ‘Israeli occupation’ \\\n",
    "               Baker Police officer arrested for allegedly covering up details in shots fired investigation \\\n",
    "               Miami doctor’s call to broker during baby’s delivery leads to $33.8 million judgment \\\n",
    "               Minnesota man gets 15 years for shooting 5 Black Lives Matter protesters \\\n",
    "               South Australian woman facing possible 25 years in Colombian prison for drug trafficking \\\n",
    "               The Latest: Deal reached on funding government through Sept. \\\n",
    "               Russia flaunts Arctic expansion with new military bases\"\n",
    "\n",
    "clean_news = clean_text(create_news)\n",
    "\n",
    "int_news = news_to_int(clean_news)\n",
    "\n",
    "pad_news = padding_news(int_news)\n",
    "\n",
    "pad_news = np.array(pad_news).reshape((1,-1))\n",
    "\n",
    "pred = model.predict([pad_news,pad_news])\n",
    "\n",
    "price_change = unnormalize(pred)\n",
    "\n",
    "print(\"The Dow should open: {} from the previous open.\".format(np.round(price_change[0][0],2)))"
   ]
  }
 ],
 "metadata": {
  "kernelspec": {
   "display_name": "Python 3",
   "language": "python",
   "name": "python3"
  },
  "language_info": {
   "codemirror_mode": {
    "name": "ipython",
    "version": 3
   },
   "file_extension": ".py",
   "mimetype": "text/x-python",
   "name": "python",
   "nbconvert_exporter": "python",
   "pygments_lexer": "ipython3",
   "version": "3.7.0"
  }
 },
 "nbformat": 4,
 "nbformat_minor": 2
}
